{
 "cells": [
  {
   "cell_type": "markdown",
   "metadata": {},
   "source": [
    "# Sök riksdagens api (med json)\n",
    "### Hämta och printa en söksträng"
   ]
  },
  {
   "cell_type": "code",
   "execution_count": 13,
   "metadata": {
    "collapsed": false
   },
   "outputs": [
    {
     "name": "stdout",
     "output_type": "stream",
     "text": [
      "Första sidan: http://data.riksdagen.se/dokumentlista/?sok=fraktal*&doktyp=&rm=&from=&tom=&ts=&bet=&tempbet=&nr=&org=&iid=&webbtv=&talare=&exakt=&planering=&sort=datum&sortorder=asc&rapport=&utformat=json&a=s#soktraff\n",
      "Forskning och forskarutbildning | typ: bet\n",
      "\tPublicerad: 2011-04-12 13:21:28\n",
      "\tNone\n",
      "\thttp://data.riksdagen.se/dokument/GY01UbU12.text\n",
      "\thttp://data.riksdagen.se/dokument/GY01UbU12.html\n",
      "\tBilaga: http://data.riksdagen.se/fil/6A18CD4F-D670-416C-AE3B-F03319F41AC0\n",
      "Riksdagens protokoll 2010/11:93 Torsdagen den 28 april | typ: prot\n",
      "\tPublicerad: 2011-04-28\n",
      "\tNone\n",
      "\thttp://data.riksdagen.se/dokument/GY0993.text\n",
      "\thttp://data.riksdagen.se/dokument/GY0993.html\n",
      "\tno attachment\n",
      "Kunskap på djupet, del 1 | typ: sou\n",
      "\tPublicerad: 2012-01-01\n",
      "\tNone\n",
      "\thttp://data.riksdagen.se/dokument/GZB356.text\n",
      "\thttp://data.riksdagen.se/dokument/GZB356.html\n",
      "\tBilaga: http://data.riksdagen.se/fil/BD899916-AD0B-48BD-886F-43719D83003A\n",
      "Skydd för geografisk information | typ: sou\n",
      "\tPublicerad: 2013-11-04 15:33:40\n",
      "\tNone\n",
      "\thttp://data.riksdagen.se/dokument/H1B351.text\n",
      "\thttp://data.riksdagen.se/dokument/H1B351.html\n",
      "\tBilaga: http://data.riksdagen.se/fil/D5B0774D-AC54-49F4-93ED-DDEC026AC55D\n",
      "Klart! Det var bara 1 sidor.\n"
     ]
    }
   ],
   "source": [
    "#Use with jupyter notebook and the python3 kernel. \n",
    "import urllib.request\n",
    "import json\n",
    "\n",
    "# Ange sökord inom citattecknena:\n",
    "searchword = \"fraktal*\" # Not sure of exact syntax here, see API.\n",
    "\n",
    "newpage = True\n",
    "counter = 0\n",
    "request = 'http://data.riksdagen.se/dokumentlista/?sok=' + searchword + '&doktyp=&rm=&from=&tom=&ts=&bet=&tempbet=&nr=&org=&iid=&webbtv=&talare=&exakt=&planering=&sort=datum&sortorder=asc&rapport=&utformat=json&a=s#soktraff'\n",
    "print(\"Första sidan: \" + request)\n",
    "\n",
    "while newpage == True:\n",
    "    response = urllib.request.urlopen(request)\n",
    "    str_response = response.readall().decode('utf-8')\n",
    "    obj = json.loads(str_response)\n",
    "    json_obj = obj['dokumentlista']['dokument']\n",
    "    \n",
    "    for j in json_obj:\n",
    "        try:\n",
    "            print(str(j['titel']) + \" | typ: \" + str(j['typ']))\n",
    "            print(\"\\tPublicerad: \" + str(j['publicerad']))\n",
    "            print(\"\\t\" + str(j['undertitel']))\n",
    "            print(\"\\t\" + str(j['dokument_url_text']))\n",
    "            print(\"\\t\" + str(j['dokument_url_html']))\n",
    "        except KeyError:\n",
    "            print(\"\\tkey error\")\n",
    "        try: \n",
    "            for key, value in j['filbilaga'].items():\n",
    "                print(\"\\tBilaga: \" + str(value['url']))\n",
    "        except AttributeError:\n",
    "            print(\"\\tno attachment\")\n",
    "        except TypeError:\n",
    "            print(\"\\tno attachment\")\n",
    "\n",
    "    try:\n",
    "        if obj['dokumentlista']['@nasta_sida']:\n",
    "            print(\"Nästa sida: \" + str(obj['dokumentlista']['@nasta_sida']))\n",
    "            request = str(obj['dokumentlista']['@nasta_sida'])\n",
    "            counter += 1\n",
    "    except KeyError:\n",
    "        print(\"Klart! Det var bara \" + str(counter + 1) + \" sidor.\")\n",
    "        newpage = False\n",
    "        break\n"
   ]
  },
  {
   "cell_type": "code",
   "execution_count": null,
   "metadata": {
    "collapsed": true
   },
   "outputs": [],
   "source": []
  }
 ],
 "metadata": {
  "kernelspec": {
   "display_name": "IPython (Python 3)",
   "language": "python",
   "name": "python3"
  },
  "language_info": {
   "name": "python",
   "version": "3.4.3"
  }
 },
 "nbformat": 4,
 "nbformat_minor": 0
}
